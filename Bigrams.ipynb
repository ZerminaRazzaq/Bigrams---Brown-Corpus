{
  "nbformat": 4,
  "nbformat_minor": 0,
  "metadata": {
    "colab": {
      "name": "Bigrams.ipynb",
      "provenance": []
    },
    "kernelspec": {
      "name": "python3",
      "display_name": "Python 3"
    }
  },
  "cells": [
    {
      "cell_type": "code",
      "metadata": {
        "id": "raoRMUU4-iev"
      },
      "source": [
        "import nltk\r\n",
        "nltk.download('punkt')\r\n",
        "# nltk.download(\"averaged_perceptron_tagger')\r\n",
        "from nltk import word_tokenize \r\n",
        "from nltk.util import ngrams\r\n",
        "import nltk\r\n",
        "nltk.download('averaged_perceptron_tagger')\r\n",
        "f = open('/content/brown.csv')\r\n",
        "raw = f.read()\r\n",
        " \r\n",
        "tokens = nltk.word_tokenize(raw)\r\n",
        " \r\n",
        "#Create your bigrams\r\n",
        "bgs = nltk.bigrams(tokens)\r\n",
        " \r\n",
        " \r\n",
        "#compute frequency distribution for all the bigrams in the text\r\n",
        "fdist = nltk.FreqDist(bgs)\r\n",
        "for k,v in fdist.items():\r\n",
        "    print (k,v)\r\n",
        "    print(nltk.pos_tag(bgs))"
      ],
      "execution_count": null,
      "outputs": []
    }
  ]
}